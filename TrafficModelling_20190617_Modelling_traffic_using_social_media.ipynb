{
 "cells": [
  {
   "cell_type": "markdown",
   "metadata": {},
   "source": [
    "# Modelling traffic using social media"
   ]
  },
  {
   "cell_type": "markdown",
   "metadata": {},
   "source": [
    "## 0.0 Imports"
   ]
  },
  {
   "cell_type": "code",
   "execution_count": 1,
   "metadata": {},
   "outputs": [
    {
     "name": "stderr",
     "output_type": "stream",
     "text": [
      "C:\\ProgramData\\Anaconda3\\lib\\site-packages\\gensim\\utils.py:1197: UserWarning: detected Windows; aliasing chunkize to chunkize_serial\n",
      "  warnings.warn(\"detected Windows; aliasing chunkize to chunkize_serial\")\n",
      "C:\\ProgramData\\Anaconda3\\lib\\site-packages\\nltk\\twitter\\__init__.py:20: UserWarning: The twython library has not been installed. Some functionality from the twitter package will not be available.\n",
      "  warnings.warn(\"The twython library has not been installed. \"\n"
     ]
    }
   ],
   "source": [
    "# imports used in Selenium\n",
    "from selenium import webdriver\n",
    "from selenium.common.exceptions import TimeoutException\n",
    "from selenium.webdriver.support.ui import WebDriverWait\n",
    "from selenium.webdriver.support import expected_conditions as EC\n",
    "from selenium.webdriver.common.by import By\n",
    "from selenium.common.exceptions import NoSuchElementException, StaleElementReferenceException\n",
    "from selenium.webdriver.common.keys import Keys\n",
    "from time import sleep\n",
    "\n",
    "# general python imports i.e. working with dataframes and basic maths\n",
    "import pandas as pd\n",
    "import numpy as np\n",
    "\n",
    "# used to get most common words\n",
    "from sklearn.feature_extraction.text import CountVectorizer\n",
    "\n",
    "import math\n",
    "\n",
    "\n",
    "from gensim.models.word2vec import Word2Vec\n",
    "\n",
    "import spacy\n",
    "nlp = spacy.load('en_core_web_sm')\n",
    "\n",
    "\n",
    "import sys,getopt,datetime,codecs\n",
    "\n",
    "# Grabbing Tweets\n",
    "from got3.manager import TweetCriteria\n",
    "from got3.manager import TweetManager\n",
    "import got3\n",
    "\n",
    "# Named Entity Recognition\n",
    "import spacy\n",
    "from spacy import displacy\n",
    "from collections import Counter\n",
    "import en_core_web_sm\n",
    "nlp = en_core_web_sm.load()\n",
    "\n",
    "# sentiment analysis\n",
    "from nltk.sentiment.vader import SentimentIntensityAnalyzer\n",
    "analyzer = SentimentIntensityAnalyzer()\n",
    "\n",
    "# Stop words\n",
    "from sklearn.feature_extraction.text import ENGLISH_STOP_WORDS\n",
    "\n",
    "# Modelling imports\n",
    "from sklearn.linear_model import LinearRegression, LogisticRegression\n",
    "from sklearn import metrics\n",
    "from sklearn.metrics import classification_report, confusion_matrix\n",
    "\n",
    "from sklearn.feature_extraction.text import TfidfVectorizer, CountVectorizer\n",
    "from sklearn.model_selection import GridSearchCV, train_test_split, cross_val_score\n",
    "\n",
    "# Graph imports\n",
    "import matplotlib.pyplot as plt\n",
    "import seaborn as sns\n",
    "\n",
    "import itertools"
   ]
  },
  {
   "cell_type": "markdown",
   "metadata": {},
   "source": [
    "## 1.0 Functions"
   ]
  },
  {
   "cell_type": "code",
   "execution_count": 2,
   "metadata": {},
   "outputs": [],
   "source": [
    "# File naming function\n",
    "def filename_maker(title,type_of_output):\n",
    "    time = datetime.datetime.now().strftime(\"%y%m%d_%Hh%Mm\")\n",
    "    filename = time + \"_\" + type_of_output + \"_\" + title\n",
    "    return filename"
   ]
  },
  {
   "cell_type": "markdown",
   "metadata": {},
   "source": [
    "### 1.1 Tweet data functions"
   ]
  },
  {
   "cell_type": "code",
   "execution_count": 3,
   "metadata": {},
   "outputs": [],
   "source": [
    "# Function to grab tweets containing 'ExtinctionRebellion'\n",
    "def ER_tweets():\n",
    "    tweets_master_ls = []\n",
    "    \n",
    "    print('Setting tweet criteria')\n",
    "    tweetCriteria = got3.manager.TweetCriteria().setQuerySearch('ExtinctionRebellion').setSince('2019-01-01')\n",
    "    print('Getting tweets')\n",
    "    tweets = got3.manager.TweetManager.getTweets(tweetCriteria)\n",
    "\n",
    "\n",
    "    tweet_counter = 0\n",
    "    for tweet in tweets:\n",
    "        #try:\n",
    "        account_tweet_dict = {'tweet_text' : tweet.text,\n",
    "                     'user' : tweet.username,\n",
    "                     'date' : tweet.date,\n",
    "                     'retweets' : tweet.retweets,\n",
    "                             'geo':tweet.geo,\n",
    "                             'favorites':tweet.favorites}\n",
    "\n",
    "        tweets_master_ls.append(account_tweet_dict)\n",
    "        tweet_counter += 1\n",
    "\n",
    "        if tweet_counter % 10 == 0:\n",
    "            print(f\"{tweet_counter} tweets grabbed\")\n",
    "\n",
    "        #except:\n",
    "         #   print('An exception has occurred type 1')\n",
    "\n",
    "    tweets_df = pd.DataFrame(tweets_master_ls)\n",
    "    \n",
    "    # Set output file name\n",
    "    csv_type_of_output = 'Tweets_RAW'\n",
    "    csv_filename = filename_maker('ER', csv_type_of_output)\n",
    "    \n",
    "    #Outputting to csv\n",
    "    print('Outputting raw scrape results, filename: ' + csv_filename + '.csv')\n",
    "    tweets_df.to_csv(csv_filename + '.csv')\n",
    "    \n",
    "    return tweets_df"
   ]
  },
  {
   "cell_type": "code",
   "execution_count": 4,
   "metadata": {},
   "outputs": [],
   "source": [
    "# Function to grab tweets from an account\n",
    "def account_tweets_grabber(handle):\n",
    "    \n",
    "    account_tweets_lst = []\n",
    "    \n",
    "    tweetCriteria = got3.manager.TweetCriteria().setUsername(handle.replace('@','')).setSince('2019-01-01')\n",
    "    tweets = got3.manager.TweetManager.getTweets(tweetCriteria)\n",
    "\n",
    "    tweet_counter = 0\n",
    "    for tweet in tweets:\n",
    "        try:\n",
    "            account_tweet_dict = {'tweet_text' : tweet.text,\n",
    "                         'user' : handle,\n",
    "                         'date' : tweet.date,\n",
    "                         'retweets' : tweet.retweets}\n",
    "\n",
    "            account_tweets_lst.append(account_tweet_dict)\n",
    "            tweet_counter += 1\n",
    "\n",
    "            if tweet_counter % 10 == 0:\n",
    "                print(f\"{tweet_counter} tweets grabbed from account: {handle}\")\n",
    "        except:\n",
    "            print('An exception has occurred')\n",
    "            \n",
    "    account_tweets_df = pd.DataFrame(account_tweets_lst)\n",
    "            \n",
    "    return account_tweets_df"
   ]
  },
  {
   "cell_type": "markdown",
   "metadata": {},
   "source": [
    "### 1.2 Text processing functions"
   ]
  },
  {
   "cell_type": "code",
   "execution_count": 5,
   "metadata": {},
   "outputs": [],
   "source": [
    "def named_entity(x):\n",
    "\n",
    "    doc = nlp(x)\n",
    "\n",
    "    return [(X.text, X.label_) for X in doc.ents]"
   ]
  },
  {
   "cell_type": "code",
   "execution_count": 6,
   "metadata": {},
   "outputs": [],
   "source": [
    "def sentiment_analyser(text):\n",
    "    sentiment_scores = analyzer.polarity_scores(str(text))\n",
    "    \n",
    "    return sentiment_scores"
   ]
  },
  {
   "cell_type": "markdown",
   "metadata": {},
   "source": [
    "### 1.3 Text cleaning"
   ]
  },
  {
   "cell_type": "code",
   "execution_count": 7,
   "metadata": {},
   "outputs": [],
   "source": [
    "# function to find and replace words in a string using a dictionary\n",
    "def find_replace(string, dictionary):\n",
    "    \n",
    "    replacement_list = []\n",
    "    \n",
    "    # is the item in the dict?\n",
    "    for item in string.split():\n",
    "        # iterate by keys\n",
    "        if item in dictionary.keys():\n",
    "            # look up and replace\n",
    "            replacement_list.append(item)\n",
    "            #string.replace(item, dictionary[item])\n",
    "            \n",
    "    for word in replacement_list:\n",
    "        \n",
    "        string = string.replace(word, dictionary[word])\n",
    "    # return updated string\n",
    "    return string"
   ]
  },
  {
   "cell_type": "code",
   "execution_count": 8,
   "metadata": {},
   "outputs": [],
   "source": [
    "# Dictionary of apostrophe conversions to find and replace on\n",
    "appos = {\"aren't\" : \"are not\",\n",
    "\"can't\" : \"cannot\",\n",
    "\"couldn't\" : \"could not\",\n",
    "\"didn't\" : \"did not\",\n",
    "\"doesn't\" : \"does not\",\n",
    "\"don't\" : \"do not\",\n",
    "\"hadn't\" : \"had not\",\n",
    "\"hasn't\" : \"has not\",\n",
    "\"haven't\" : \"have not\",\n",
    "\"he'd\" : \"he would\",\n",
    "\"he'll\" : \"he will\",\n",
    "\"he's\" : \"he is\",\n",
    "\"i'd\" : \"I would\",\n",
    "\"i'd\" : \"I had\",\n",
    "\"i'll\" : \"I will\",\n",
    "\"i'm\" : \"I am\",\n",
    "\"isn't\" : \"is not\",\n",
    "\"it's\" : \"it is\",\n",
    "\"it'll\":\"it will\",\n",
    "\"i've\" : \"I have\",\n",
    "\"let's\" : \"let us\",\n",
    "\"mightn't\" : \"might not\",\n",
    "\"mustn't\" : \"must not\",\n",
    "\"shan't\" : \"shall not\",\n",
    "\"she'd\" : \"she would\",\n",
    "\"she'll\" : \"she will\",\n",
    "\"she's\" : \"she is\",\n",
    "\"shouldn't\" : \"should not\",\n",
    "\"that's\" : \"that is\",\n",
    "\"there's\" : \"there is\",\n",
    "\"they'd\" : \"they would\",\n",
    "\"they'll\" : \"they will\",\n",
    "\"they're\" : \"they are\",\n",
    "\"they've\" : \"they have\",\n",
    "\"we'd\" : \"we would\",\n",
    "\"we're\" : \"we are\",\n",
    "\"weren't\" : \"were not\",\n",
    "\"we've\" : \"we have\",\n",
    "\"what'll\" : \"what will\",\n",
    "\"what're\" : \"what are\",\n",
    "\"what's\" : \"what is\",\n",
    "\"what've\" : \"what have\",\n",
    "\"where's\" : \"where is\",\n",
    "\"who'd\" : \"who would\",\n",
    "\"who'll\" : \"who will\",\n",
    "\"who're\" : \"who are\",\n",
    "\"who's\" : \"who is\",\n",
    "\"who've\" : \"who have\",\n",
    "\"won't\" : \"will not\",\n",
    "\"wouldn't\" : \"would not\",\n",
    "\"you'd\" : \"you would\",\n",
    "\"you'll\" : \"you will\",\n",
    "\"you're\" : \"you are\",\n",
    "\"you've\" : \"you have\",\n",
    "\"'re\": \" are\",\n",
    "\"wasn't\": \"was not\",\n",
    "\"we'll\":\" will\",\n",
    "\"didn't\": \"did not\"}"
   ]
  },
  {
   "cell_type": "code",
   "execution_count": 9,
   "metadata": {},
   "outputs": [],
   "source": [
    "def tweet_text_cleaner(text):\n",
    "    clean_text = str(text).lower().replace(',', ' ').replace('’',\"'\")\n",
    "    \n",
    "    clean_text = find_replace(str(clean_text), appos)\n",
    "    \n",
    "    return clean_text"
   ]
  },
  {
   "cell_type": "markdown",
   "metadata": {},
   "source": [
    "### 1.4 Specific location tagging"
   ]
  },
  {
   "cell_type": "code",
   "execution_count": 10,
   "metadata": {},
   "outputs": [],
   "source": [
    "def marble_arch_detector(text):\n",
    "    if 'marblearch' in text.replace(' ','').lower():\n",
    "        marble_arch_present = 1\n",
    "    else:\n",
    "        marble_arch_present = 0\n",
    "        \n",
    "    return marble_arch_present\n",
    "\n",
    "def waterloo_detector(text):\n",
    "    if 'waterloo' in text.replace(' ','').lower():\n",
    "        waterloo_present = 1\n",
    "    else:\n",
    "        waterloo_present = 0\n",
    "        \n",
    "    return waterloo_present\n",
    "\n",
    "def oxford_circus_detector(text):\n",
    "    if 'oxfordcircus' in text.replace(' ','').lower():\n",
    "        oxford_circus_present = 1\n",
    "    else:\n",
    "        oxford_circus_present = 0\n",
    "        \n",
    "    return oxford_circus_present\n",
    "\n",
    "def regent_street_detector(text):\n",
    "    if 'regentstreet' in text.replace(' ','').lower():\n",
    "        regent_street_present = 1\n",
    "    else:\n",
    "        regent_street_present = 0\n",
    "        \n",
    "    return regent_street_present\n",
    "\n",
    "def parliament_square_detector(text):\n",
    "    if 'parliamentsquare' in text.replace(' ','').lower():\n",
    "        parliament_square_present = 1\n",
    "    else:\n",
    "        parliament_square_present = 0\n",
    "        \n",
    "    return parliament_square_present"
   ]
  },
  {
   "cell_type": "markdown",
   "metadata": {},
   "source": [
    "### 1.5 Traffic flag"
   ]
  },
  {
   "cell_type": "code",
   "execution_count": 11,
   "metadata": {},
   "outputs": [],
   "source": [
    "def traffic_flagger(row):\n",
    "    traffic_flag = 0\n",
    "    if row['marble_arch'] == 1:\n",
    "        traffic_flag = 1\n",
    "    elif row['waterloo'] == 1:\n",
    "        traffic_flag = 1    \n",
    "    elif row['oxford_circus'] == 1:\n",
    "        traffic_flag = 1\n",
    "    elif row['regent_street'] == 1:\n",
    "        traffic_flag = 1\n",
    "    elif row['parliament_square'] == 1:\n",
    "        traffic_flag = 1\n",
    "        \n",
    "    return traffic_flag"
   ]
  },
  {
   "cell_type": "markdown",
   "metadata": {},
   "source": [
    "### 1.6 Processing datetime"
   ]
  },
  {
   "cell_type": "code",
   "execution_count": 12,
   "metadata": {},
   "outputs": [],
   "source": [
    "def hour_rounder(t):\n",
    "    # Rounds to nearest hour by adding a timedelta hour if minute >= 30\n",
    "    return (t.replace(second=0, microsecond=0, minute=0, hour=t.hour)\n",
    "               +datetime.timedelta(hours=t.minute//30))"
   ]
  },
  {
   "cell_type": "markdown",
   "metadata": {},
   "source": [
    "### 1.7 Model Evaluation"
   ]
  },
  {
   "cell_type": "code",
   "execution_count": 13,
   "metadata": {},
   "outputs": [],
   "source": [
    "def plot_confusion_matrix(cm, classes, title='Confusion matrix', cmap=plt.cm.Reds):\n",
    "    plt.imshow(cm, interpolation='nearest', cmap=cmap)\n",
    "    plt.title(title)\n",
    "    plt.colorbar()\n",
    "    tick_marks = np.arange(len(classes))\n",
    "    plt.xticks(tick_marks, classes, rotation=45)\n",
    "    plt.yticks(tick_marks, classes)\n",
    "    thresh = cm.max() / 2.\n",
    "    for i, j in itertools.product(range(cm.shape[0]), range(cm.shape[1])):\n",
    "        plt.text(j, i, cm[i, j],\n",
    "                 horizontalalignment=\"center\",\n",
    "                 color=\"white\" if cm[i, j] > thresh else \"black\")\n",
    "    plt.ylabel('True label')\n",
    "    plt.xlabel('Predicted label')\n",
    "    plt.show()"
   ]
  },
  {
   "cell_type": "markdown",
   "metadata": {},
   "source": [
    "## 2.0 Input data"
   ]
  },
  {
   "cell_type": "markdown",
   "metadata": {},
   "source": [
    "### 2.1 Get Extinction Rebellion tweets"
   ]
  },
  {
   "cell_type": "code",
   "execution_count": null,
   "metadata": {},
   "outputs": [],
   "source": [
    "ER_tweets = ER_tweets()"
   ]
  },
  {
   "cell_type": "markdown",
   "metadata": {},
   "source": [
    "### 2.2 Get TFL Traffic News tweets"
   ]
  },
  {
   "cell_type": "code",
   "execution_count": null,
   "metadata": {},
   "outputs": [],
   "source": [
    "handle = '@TfLTrafficNews'\n",
    "\n",
    "TfLTrafficNews_tweets = account_tweets_grabber(handle)"
   ]
  },
  {
   "cell_type": "code",
   "execution_count": null,
   "metadata": {},
   "outputs": [],
   "source": [
    "TfLTrafficNews_tweets.to_csv('TfLTrafficNews_tweets_20190617.csv')"
   ]
  },
  {
   "cell_type": "markdown",
   "metadata": {},
   "source": [
    "## 3.0 Process data"
   ]
  },
  {
   "cell_type": "markdown",
   "metadata": {},
   "source": [
    "### 3.1 Named entity"
   ]
  },
  {
   "cell_type": "code",
   "execution_count": null,
   "metadata": {},
   "outputs": [],
   "source": [
    "ER_tweets['named_entity'] = ER_tweets['tweet_text'].map(lambda x: named_entity(x))\n",
    "print('ER_tweets named entity done')\n",
    "TfLTrafficNews_tweets['named_entity'] = TfLTrafficNews_tweets['tweet_text'].map(lambda x: named_entity(x))\n",
    "print('TfLTrafficNews_tweets named entity done')"
   ]
  },
  {
   "cell_type": "markdown",
   "metadata": {},
   "source": [
    "### 3.2 Clean tweet data"
   ]
  },
  {
   "cell_type": "code",
   "execution_count": null,
   "metadata": {},
   "outputs": [],
   "source": [
    "ER_tweets['tweet_text_clean'] = ER_tweets['tweet_text'].map(lambda x: tweet_text_cleaner(x))\n",
    "TfLTrafficNews_tweets['tweet_text_clean'] = TfLTrafficNews_tweets['tweet_text'].map(lambda x: tweet_text_cleaner(x))"
   ]
  },
  {
   "cell_type": "markdown",
   "metadata": {},
   "source": [
    "### 3.3 Flag for known protest locations"
   ]
  },
  {
   "cell_type": "code",
   "execution_count": null,
   "metadata": {},
   "outputs": [],
   "source": [
    "# Flag locations in extinction rebellion tweets\n",
    "ER_tweets['marble_arch_flag'] = ER_tweets['tweet_text_clean'].map(lambda x: marble_arch_detector(x))\n",
    "ER_tweets['waterloo_flag'] = ER_tweets['tweet_text_clean'].map(lambda x: waterloo_detector(x))\n",
    "ER_tweets['oxford_circus_flag'] = ER_tweets['tweet_text_clean'].map(lambda x: oxford_circus_detector(x))\n",
    "ER_tweets['regent_street_flag'] = ER_tweets['tweet_text_clean'].map(lambda x: regent_street_detector(x))\n",
    "ER_tweets['parliament_square_flag'] = ER_tweets['tweet_text_clean'].map(lambda x: parliament_square_detector(x))"
   ]
  },
  {
   "cell_type": "code",
   "execution_count": null,
   "metadata": {},
   "outputs": [],
   "source": [
    "# Flag locations in TFL traffic tweets\n",
    "TfLTrafficNews_tweets['marble_arch'] = TfLTrafficNews_tweets['tweet_text_clean'].map(lambda x: marble_arch_detector(x))\n",
    "TfLTrafficNews_tweets['waterloo'] = TfLTrafficNews_tweets['tweet_text_clean'].map(lambda x: waterloo_detector(x))\n",
    "TfLTrafficNews_tweets['oxford_circus'] = TfLTrafficNews_tweets['tweet_text_clean'].map(lambda x: oxford_circus_detector(x))\n",
    "TfLTrafficNews_tweets['regent_street'] = TfLTrafficNews_tweets['tweet_text_clean'].map(lambda x: regent_street_detector(x))\n",
    "TfLTrafficNews_tweets['parliament_square'] = TfLTrafficNews_tweets['tweet_text_clean'].map(lambda x: parliament_square_detector(x))"
   ]
  },
  {
   "cell_type": "markdown",
   "metadata": {},
   "source": [
    "#### 3.31 Add flag for any traffic"
   ]
  },
  {
   "cell_type": "code",
   "execution_count": null,
   "metadata": {},
   "outputs": [],
   "source": [
    "TfLTrafficNews_tweets['traffic'] = TfLTrafficNews_tweets.apply(lambda x: traffic_flagger(x), axis=1)"
   ]
  },
  {
   "cell_type": "markdown",
   "metadata": {},
   "source": [
    "#### 3.32 Check values"
   ]
  },
  {
   "cell_type": "code",
   "execution_count": null,
   "metadata": {
    "scrolled": true
   },
   "outputs": [],
   "source": [
    "TfLTrafficNews_tweets['traffic'].value_counts()"
   ]
  },
  {
   "cell_type": "markdown",
   "metadata": {},
   "source": [
    "### 3.5 Add sentiment to protest tweets"
   ]
  },
  {
   "cell_type": "code",
   "execution_count": null,
   "metadata": {
    "scrolled": true
   },
   "outputs": [],
   "source": [
    "ER_tweets['sentiment_scores'] = ER_tweets['tweet_text'].map(lambda x: sentiment_analyser(str(x)))\n",
    "ER_tweets['overall_sentiment'] = ER_tweets['sentiment_scores'].map(lambda x: x['compound'])"
   ]
  },
  {
   "cell_type": "markdown",
   "metadata": {},
   "source": [
    "### 3.6 Merge traffic data to protest Tweet data"
   ]
  },
  {
   "cell_type": "code",
   "execution_count": null,
   "metadata": {
    "scrolled": true
   },
   "outputs": [],
   "source": [
    "ER_tweets.head(3)"
   ]
  },
  {
   "cell_type": "code",
   "execution_count": null,
   "metadata": {
    "scrolled": true
   },
   "outputs": [],
   "source": [
    "# Round datetime to match files together\n",
    "ER_tweets['date_mins'] = ER_tweets['date'].values.astype('<M8[m]')\n",
    "TfLTrafficNews_tweets['date_mins'] = TfLTrafficNews_tweets['date'].values.astype('<M8[m]')\n",
    "\n",
    "ER_tweets['date_hour'] = ER_tweets['date'].map(lambda x: hour_rounder(x))\n",
    "TfLTrafficNews_tweets['date_hour'] = TfLTrafficNews_tweets['date'].map(lambda x: hour_rounder(x))"
   ]
  },
  {
   "cell_type": "code",
   "execution_count": null,
   "metadata": {},
   "outputs": [],
   "source": [
    "# Reduce to just key column and modelling column\n",
    "TfLTrafficNews_for_model = TfLTrafficNews_tweets[['date_hour','traffic']]"
   ]
  },
  {
   "cell_type": "code",
   "execution_count": null,
   "metadata": {},
   "outputs": [],
   "source": [
    "# Only keep rows that indicate traffic and dedupe to avoid duplication on the merge\n",
    "TfLTrafficNews_for_model = TfLTrafficNews_for_model[TfLTrafficNews_for_model['traffic'] == 1]\n",
    "\n",
    "TfLTrafficNews_for_model.drop_duplicates(inplace=True)"
   ]
  },
  {
   "cell_type": "code",
   "execution_count": null,
   "metadata": {},
   "outputs": [],
   "source": [
    "# merge to create DF for modelling\n",
    "modelling_df = ER_tweets.merge(TfLTrafficNews_for_model, how='left', on='date_hour', indicator=True)"
   ]
  },
  {
   "cell_type": "code",
   "execution_count": null,
   "metadata": {},
   "outputs": [],
   "source": [
    "modelling_df['traffic'].fillna(0, inplace=True)"
   ]
  },
  {
   "cell_type": "code",
   "execution_count": null,
   "metadata": {},
   "outputs": [],
   "source": [
    "modelling_df.head(3)"
   ]
  },
  {
   "cell_type": "code",
   "execution_count": null,
   "metadata": {},
   "outputs": [],
   "source": [
    "# Check match rate\n",
    "modelling_df['_merge'].value_counts()"
   ]
  },
  {
   "cell_type": "code",
   "execution_count": null,
   "metadata": {},
   "outputs": [],
   "source": [
    "# Drop unused columns\n",
    "modelling_df.drop(columns=['geo','user','named_entity','tweet_text','sentiment_scores'], inplace=True)"
   ]
  },
  {
   "cell_type": "code",
   "execution_count": null,
   "metadata": {},
   "outputs": [],
   "source": [
    "modelling_df.columns"
   ]
  },
  {
   "cell_type": "code",
   "execution_count": null,
   "metadata": {},
   "outputs": [],
   "source": [
    "modelling_df.shape"
   ]
  },
  {
   "cell_type": "markdown",
   "metadata": {},
   "source": [
    "### 3.7 Check all values in tweet text are strings"
   ]
  },
  {
   "cell_type": "code",
   "execution_count": null,
   "metadata": {},
   "outputs": [],
   "source": [
    "modelling_df['type_string'] = modelling_df['tweet_text_clean'].map(lambda x: True if type(x) == str else False)\n",
    "modelling_df['type_string'].value_counts()"
   ]
  },
  {
   "cell_type": "markdown",
   "metadata": {},
   "source": [
    "### 3.8 Backup processed files"
   ]
  },
  {
   "cell_type": "code",
   "execution_count": null,
   "metadata": {},
   "outputs": [],
   "source": [
    "ER_tweets.to_csv('ER_tweets_20190618.csv')\n",
    "TfLTrafficNews_tweets.to_csv('TfLTrafficNews_tweets_20190618.csv')\n",
    "modelling_df.to_csv('modelling_df_20190618.csv')"
   ]
  },
  {
   "cell_type": "markdown",
   "metadata": {},
   "source": [
    "## 4.0 Modelling"
   ]
  },
  {
   "cell_type": "code",
   "execution_count": 14,
   "metadata": {},
   "outputs": [
    {
     "data": {
      "text/html": [
       "<div>\n",
       "<style scoped>\n",
       "    .dataframe tbody tr th:only-of-type {\n",
       "        vertical-align: middle;\n",
       "    }\n",
       "\n",
       "    .dataframe tbody tr th {\n",
       "        vertical-align: top;\n",
       "    }\n",
       "\n",
       "    .dataframe thead th {\n",
       "        text-align: right;\n",
       "    }\n",
       "</style>\n",
       "<table border=\"1\" class=\"dataframe\">\n",
       "  <thead>\n",
       "    <tr style=\"text-align: right;\">\n",
       "      <th></th>\n",
       "      <th>date</th>\n",
       "      <th>favorites</th>\n",
       "      <th>retweets</th>\n",
       "      <th>tweet_text_clean</th>\n",
       "      <th>marble_arch</th>\n",
       "      <th>waterloo</th>\n",
       "      <th>oxford_circus</th>\n",
       "      <th>regent_street</th>\n",
       "      <th>parliament_square</th>\n",
       "      <th>overall_sentiment</th>\n",
       "      <th>date_mins</th>\n",
       "      <th>date_hour</th>\n",
       "      <th>marble_arch_flag</th>\n",
       "      <th>waterloo_flag</th>\n",
       "      <th>oxford_circus_flag</th>\n",
       "      <th>regent_street_flag</th>\n",
       "      <th>parliament_square_flag</th>\n",
       "      <th>traffic</th>\n",
       "      <th>_merge</th>\n",
       "      <th>type_string</th>\n",
       "    </tr>\n",
       "  </thead>\n",
       "  <tbody>\n",
       "    <tr>\n",
       "      <th>0</th>\n",
       "      <td>2019-06-16 16:25:50</td>\n",
       "      <td>0</td>\n",
       "      <td>0</td>\n",
       "      <td>a plan by climate protesters to shut down heat...</td>\n",
       "      <td>0</td>\n",
       "      <td>0</td>\n",
       "      <td>0</td>\n",
       "      <td>0</td>\n",
       "      <td>0</td>\n",
       "      <td>-0.3400</td>\n",
       "      <td>2019-06-16 16:25:00</td>\n",
       "      <td>2019-06-16 16:00:00</td>\n",
       "      <td>0</td>\n",
       "      <td>0</td>\n",
       "      <td>0</td>\n",
       "      <td>0</td>\n",
       "      <td>0</td>\n",
       "      <td>0.0</td>\n",
       "      <td>left_only</td>\n",
       "      <td>True</td>\n",
       "    </tr>\n",
       "    <tr>\n",
       "      <th>1</th>\n",
       "      <td>2019-06-16 16:25:01</td>\n",
       "      <td>0</td>\n",
       "      <td>0</td>\n",
       "      <td># breakingnews kenneth clarke: ‘if there is no...</td>\n",
       "      <td>0</td>\n",
       "      <td>0</td>\n",
       "      <td>0</td>\n",
       "      <td>0</td>\n",
       "      <td>0</td>\n",
       "      <td>-0.2960</td>\n",
       "      <td>2019-06-16 16:25:00</td>\n",
       "      <td>2019-06-16 16:00:00</td>\n",
       "      <td>0</td>\n",
       "      <td>0</td>\n",
       "      <td>0</td>\n",
       "      <td>0</td>\n",
       "      <td>0</td>\n",
       "      <td>0.0</td>\n",
       "      <td>left_only</td>\n",
       "      <td>True</td>\n",
       "    </tr>\n",
       "    <tr>\n",
       "      <th>2</th>\n",
       "      <td>2019-06-16 16:24:03</td>\n",
       "      <td>0</td>\n",
       "      <td>0</td>\n",
       "      <td># extinctionrebellion quite happy to risk peop...</td>\n",
       "      <td>0</td>\n",
       "      <td>0</td>\n",
       "      <td>0</td>\n",
       "      <td>0</td>\n",
       "      <td>0</td>\n",
       "      <td>0.3878</td>\n",
       "      <td>2019-06-16 16:24:00</td>\n",
       "      <td>2019-06-16 16:00:00</td>\n",
       "      <td>0</td>\n",
       "      <td>0</td>\n",
       "      <td>0</td>\n",
       "      <td>0</td>\n",
       "      <td>0</td>\n",
       "      <td>0.0</td>\n",
       "      <td>left_only</td>\n",
       "      <td>True</td>\n",
       "    </tr>\n",
       "    <tr>\n",
       "      <th>3</th>\n",
       "      <td>2019-06-16 16:23:32</td>\n",
       "      <td>0</td>\n",
       "      <td>0</td>\n",
       "      <td>extinction rebellion delays drone protest at b...</td>\n",
       "      <td>0</td>\n",
       "      <td>0</td>\n",
       "      <td>0</td>\n",
       "      <td>0</td>\n",
       "      <td>0</td>\n",
       "      <td>-0.3612</td>\n",
       "      <td>2019-06-16 16:23:00</td>\n",
       "      <td>2019-06-16 16:00:00</td>\n",
       "      <td>0</td>\n",
       "      <td>0</td>\n",
       "      <td>0</td>\n",
       "      <td>0</td>\n",
       "      <td>0</td>\n",
       "      <td>0.0</td>\n",
       "      <td>left_only</td>\n",
       "      <td>True</td>\n",
       "    </tr>\n",
       "    <tr>\n",
       "      <th>4</th>\n",
       "      <td>2019-06-16 16:22:02</td>\n",
       "      <td>1</td>\n",
       "      <td>0</td>\n",
       "      <td>heathrow/extinction rebellion: the plan to clo...</td>\n",
       "      <td>0</td>\n",
       "      <td>0</td>\n",
       "      <td>0</td>\n",
       "      <td>0</td>\n",
       "      <td>0</td>\n",
       "      <td>0.3182</td>\n",
       "      <td>2019-06-16 16:22:00</td>\n",
       "      <td>2019-06-16 16:00:00</td>\n",
       "      <td>0</td>\n",
       "      <td>0</td>\n",
       "      <td>0</td>\n",
       "      <td>0</td>\n",
       "      <td>0</td>\n",
       "      <td>0.0</td>\n",
       "      <td>left_only</td>\n",
       "      <td>True</td>\n",
       "    </tr>\n",
       "  </tbody>\n",
       "</table>\n",
       "</div>"
      ],
      "text/plain": [
       "                  date  favorites  retweets  \\\n",
       "0  2019-06-16 16:25:50          0         0   \n",
       "1  2019-06-16 16:25:01          0         0   \n",
       "2  2019-06-16 16:24:03          0         0   \n",
       "3  2019-06-16 16:23:32          0         0   \n",
       "4  2019-06-16 16:22:02          1         0   \n",
       "\n",
       "                                    tweet_text_clean  marble_arch  waterloo  \\\n",
       "0  a plan by climate protesters to shut down heat...            0         0   \n",
       "1  # breakingnews kenneth clarke: ‘if there is no...            0         0   \n",
       "2  # extinctionrebellion quite happy to risk peop...            0         0   \n",
       "3  extinction rebellion delays drone protest at b...            0         0   \n",
       "4  heathrow/extinction rebellion: the plan to clo...            0         0   \n",
       "\n",
       "   oxford_circus  regent_street  parliament_square  overall_sentiment  \\\n",
       "0              0              0                  0            -0.3400   \n",
       "1              0              0                  0            -0.2960   \n",
       "2              0              0                  0             0.3878   \n",
       "3              0              0                  0            -0.3612   \n",
       "4              0              0                  0             0.3182   \n",
       "\n",
       "             date_mins            date_hour  marble_arch_flag  waterloo_flag  \\\n",
       "0  2019-06-16 16:25:00  2019-06-16 16:00:00                 0              0   \n",
       "1  2019-06-16 16:25:00  2019-06-16 16:00:00                 0              0   \n",
       "2  2019-06-16 16:24:00  2019-06-16 16:00:00                 0              0   \n",
       "3  2019-06-16 16:23:00  2019-06-16 16:00:00                 0              0   \n",
       "4  2019-06-16 16:22:00  2019-06-16 16:00:00                 0              0   \n",
       "\n",
       "   oxford_circus_flag  regent_street_flag  parliament_square_flag  traffic  \\\n",
       "0                   0                   0                       0      0.0   \n",
       "1                   0                   0                       0      0.0   \n",
       "2                   0                   0                       0      0.0   \n",
       "3                   0                   0                       0      0.0   \n",
       "4                   0                   0                       0      0.0   \n",
       "\n",
       "      _merge  type_string  \n",
       "0  left_only         True  \n",
       "1  left_only         True  \n",
       "2  left_only         True  \n",
       "3  left_only         True  \n",
       "4  left_only         True  "
      ]
     },
     "execution_count": 14,
     "metadata": {},
     "output_type": "execute_result"
    }
   ],
   "source": [
    "# Load data\n",
    "modelling_df = pd.read_csv('modelling_df_20190618.csv')\n",
    "modelling_df = modelling_df.drop('Unnamed: 0', axis=1)\n",
    "modelling_df.head()"
   ]
  },
  {
   "cell_type": "code",
   "execution_count": 15,
   "metadata": {},
   "outputs": [
    {
     "data": {
      "text/plain": [
       "0.0    17228\n",
       "1.0     1690\n",
       "Name: traffic, dtype: int64"
      ]
     },
     "execution_count": 15,
     "metadata": {},
     "output_type": "execute_result"
    }
   ],
   "source": [
    "modelling_df['traffic'].value_counts()"
   ]
  },
  {
   "cell_type": "markdown",
   "metadata": {},
   "source": [
    "### 4.1 Address class imbalance"
   ]
  },
  {
   "cell_type": "code",
   "execution_count": 16,
   "metadata": {
    "scrolled": true
   },
   "outputs": [
    {
     "name": "stdout",
     "output_type": "stream",
     "text": [
      "(3290, 20)\n"
     ]
    },
    {
     "data": {
      "text/html": [
       "<div>\n",
       "<style scoped>\n",
       "    .dataframe tbody tr th:only-of-type {\n",
       "        vertical-align: middle;\n",
       "    }\n",
       "\n",
       "    .dataframe tbody tr th {\n",
       "        vertical-align: top;\n",
       "    }\n",
       "\n",
       "    .dataframe thead th {\n",
       "        text-align: right;\n",
       "    }\n",
       "</style>\n",
       "<table border=\"1\" class=\"dataframe\">\n",
       "  <thead>\n",
       "    <tr style=\"text-align: right;\">\n",
       "      <th></th>\n",
       "      <th>date</th>\n",
       "      <th>favorites</th>\n",
       "      <th>retweets</th>\n",
       "      <th>tweet_text_clean</th>\n",
       "      <th>marble_arch</th>\n",
       "      <th>waterloo</th>\n",
       "      <th>oxford_circus</th>\n",
       "      <th>regent_street</th>\n",
       "      <th>parliament_square</th>\n",
       "      <th>overall_sentiment</th>\n",
       "      <th>date_mins</th>\n",
       "      <th>date_hour</th>\n",
       "      <th>marble_arch_flag</th>\n",
       "      <th>waterloo_flag</th>\n",
       "      <th>oxford_circus_flag</th>\n",
       "      <th>regent_street_flag</th>\n",
       "      <th>parliament_square_flag</th>\n",
       "      <th>traffic</th>\n",
       "      <th>_merge</th>\n",
       "      <th>type_string</th>\n",
       "    </tr>\n",
       "  </thead>\n",
       "  <tbody>\n",
       "    <tr>\n",
       "      <th>6</th>\n",
       "      <td>2019-06-16 16:20:51</td>\n",
       "      <td>0</td>\n",
       "      <td>0</td>\n",
       "      <td>the united states needs something like the uk'...</td>\n",
       "      <td>0</td>\n",
       "      <td>0</td>\n",
       "      <td>0</td>\n",
       "      <td>0</td>\n",
       "      <td>0</td>\n",
       "      <td>0.5859</td>\n",
       "      <td>2019-06-16 16:20:00</td>\n",
       "      <td>2019-06-16 16:00:00</td>\n",
       "      <td>0</td>\n",
       "      <td>0</td>\n",
       "      <td>0</td>\n",
       "      <td>0</td>\n",
       "      <td>0</td>\n",
       "      <td>0.0</td>\n",
       "      <td>left_only</td>\n",
       "      <td>True</td>\n",
       "    </tr>\n",
       "    <tr>\n",
       "      <th>18</th>\n",
       "      <td>2019-06-16 16:07:17</td>\n",
       "      <td>0</td>\n",
       "      <td>0</td>\n",
       "      <td>grouplove - welcome to your life [official vid...</td>\n",
       "      <td>0</td>\n",
       "      <td>0</td>\n",
       "      <td>0</td>\n",
       "      <td>0</td>\n",
       "      <td>0</td>\n",
       "      <td>0.2422</td>\n",
       "      <td>2019-06-16 16:07:00</td>\n",
       "      <td>2019-06-16 16:00:00</td>\n",
       "      <td>0</td>\n",
       "      <td>0</td>\n",
       "      <td>0</td>\n",
       "      <td>0</td>\n",
       "      <td>0</td>\n",
       "      <td>0.0</td>\n",
       "      <td>left_only</td>\n",
       "      <td>True</td>\n",
       "    </tr>\n",
       "    <tr>\n",
       "      <th>19</th>\n",
       "      <td>2019-06-16 16:05:33</td>\n",
       "      <td>0</td>\n",
       "      <td>1</td>\n",
       "      <td>extinction rebellion postpones heathrow flight...</td>\n",
       "      <td>0</td>\n",
       "      <td>0</td>\n",
       "      <td>0</td>\n",
       "      <td>0</td>\n",
       "      <td>0</td>\n",
       "      <td>-0.2382</td>\n",
       "      <td>2019-06-16 16:05:00</td>\n",
       "      <td>2019-06-16 16:00:00</td>\n",
       "      <td>0</td>\n",
       "      <td>0</td>\n",
       "      <td>0</td>\n",
       "      <td>0</td>\n",
       "      <td>0</td>\n",
       "      <td>0.0</td>\n",
       "      <td>left_only</td>\n",
       "      <td>True</td>\n",
       "    </tr>\n",
       "    <tr>\n",
       "      <th>26</th>\n",
       "      <td>2019-06-16 15:49:37</td>\n",
       "      <td>6</td>\n",
       "      <td>2</td>\n",
       "      <td>a small crew of brave rebels were in # fortgre...</td>\n",
       "      <td>0</td>\n",
       "      <td>0</td>\n",
       "      <td>0</td>\n",
       "      <td>0</td>\n",
       "      <td>0</td>\n",
       "      <td>0.7579</td>\n",
       "      <td>2019-06-16 15:49:00</td>\n",
       "      <td>2019-06-16 16:00:00</td>\n",
       "      <td>0</td>\n",
       "      <td>0</td>\n",
       "      <td>0</td>\n",
       "      <td>0</td>\n",
       "      <td>0</td>\n",
       "      <td>0.0</td>\n",
       "      <td>left_only</td>\n",
       "      <td>True</td>\n",
       "    </tr>\n",
       "    <tr>\n",
       "      <th>30</th>\n",
       "      <td>2019-06-16 15:47:00</td>\n",
       "      <td>0</td>\n",
       "      <td>0</td>\n",
       "      <td>media scepticism about theresa may's net-zero ...</td>\n",
       "      <td>0</td>\n",
       "      <td>0</td>\n",
       "      <td>0</td>\n",
       "      <td>0</td>\n",
       "      <td>0</td>\n",
       "      <td>-0.0516</td>\n",
       "      <td>2019-06-16 15:47:00</td>\n",
       "      <td>2019-06-16 16:00:00</td>\n",
       "      <td>0</td>\n",
       "      <td>0</td>\n",
       "      <td>0</td>\n",
       "      <td>0</td>\n",
       "      <td>0</td>\n",
       "      <td>0.0</td>\n",
       "      <td>left_only</td>\n",
       "      <td>True</td>\n",
       "    </tr>\n",
       "  </tbody>\n",
       "</table>\n",
       "</div>"
      ],
      "text/plain": [
       "                   date  favorites  retweets  \\\n",
       "6   2019-06-16 16:20:51          0         0   \n",
       "18  2019-06-16 16:07:17          0         0   \n",
       "19  2019-06-16 16:05:33          0         1   \n",
       "26  2019-06-16 15:49:37          6         2   \n",
       "30  2019-06-16 15:47:00          0         0   \n",
       "\n",
       "                                     tweet_text_clean  marble_arch  waterloo  \\\n",
       "6   the united states needs something like the uk'...            0         0   \n",
       "18  grouplove - welcome to your life [official vid...            0         0   \n",
       "19  extinction rebellion postpones heathrow flight...            0         0   \n",
       "26  a small crew of brave rebels were in # fortgre...            0         0   \n",
       "30  media scepticism about theresa may's net-zero ...            0         0   \n",
       "\n",
       "    oxford_circus  regent_street  parliament_square  overall_sentiment  \\\n",
       "6               0              0                  0             0.5859   \n",
       "18              0              0                  0             0.2422   \n",
       "19              0              0                  0            -0.2382   \n",
       "26              0              0                  0             0.7579   \n",
       "30              0              0                  0            -0.0516   \n",
       "\n",
       "              date_mins            date_hour  marble_arch_flag  waterloo_flag  \\\n",
       "6   2019-06-16 16:20:00  2019-06-16 16:00:00                 0              0   \n",
       "18  2019-06-16 16:07:00  2019-06-16 16:00:00                 0              0   \n",
       "19  2019-06-16 16:05:00  2019-06-16 16:00:00                 0              0   \n",
       "26  2019-06-16 15:49:00  2019-06-16 16:00:00                 0              0   \n",
       "30  2019-06-16 15:47:00  2019-06-16 16:00:00                 0              0   \n",
       "\n",
       "    oxford_circus_flag  regent_street_flag  parliament_square_flag  traffic  \\\n",
       "6                    0                   0                       0      0.0   \n",
       "18                   0                   0                       0      0.0   \n",
       "19                   0                   0                       0      0.0   \n",
       "26                   0                   0                       0      0.0   \n",
       "30                   0                   0                       0      0.0   \n",
       "\n",
       "       _merge  type_string  \n",
       "6   left_only         True  \n",
       "18  left_only         True  \n",
       "19  left_only         True  \n",
       "26  left_only         True  \n",
       "30  left_only         True  "
      ]
     },
     "execution_count": 16,
     "metadata": {},
     "output_type": "execute_result"
    }
   ],
   "source": [
    "traffic_df = modelling_df.loc[modelling_df.traffic == 1]\n",
    "\n",
    "non_traffic = modelling_df.loc[modelling_df.traffic == 0]\n",
    "\n",
    "modelling_df = pd.concat([traffic_df, non_traffic.sample(1600)]).sort_index()\n",
    "\n",
    "print(modelling_df.shape)\n",
    "modelling_df.head()"
   ]
  },
  {
   "cell_type": "code",
   "execution_count": 17,
   "metadata": {
    "scrolled": true
   },
   "outputs": [
    {
     "data": {
      "text/plain": [
       "date                      0\n",
       "favorites                 0\n",
       "retweets                  0\n",
       "tweet_text_clean          3\n",
       "marble_arch               0\n",
       "waterloo                  0\n",
       "oxford_circus             0\n",
       "regent_street             0\n",
       "parliament_square         0\n",
       "overall_sentiment         0\n",
       "date_mins                 0\n",
       "date_hour                 0\n",
       "marble_arch_flag          0\n",
       "waterloo_flag             0\n",
       "oxford_circus_flag        0\n",
       "regent_street_flag        0\n",
       "parliament_square_flag    0\n",
       "traffic                   0\n",
       "_merge                    0\n",
       "type_string               0\n",
       "dtype: int64"
      ]
     },
     "execution_count": 17,
     "metadata": {},
     "output_type": "execute_result"
    }
   ],
   "source": [
    "modelling_df.isna().sum()"
   ]
  },
  {
   "cell_type": "code",
   "execution_count": 18,
   "metadata": {},
   "outputs": [],
   "source": [
    "modelling_df = modelling_df.dropna()"
   ]
  },
  {
   "cell_type": "markdown",
   "metadata": {},
   "source": [
    "### 4.1 TFID"
   ]
  },
  {
   "cell_type": "code",
   "execution_count": 19,
   "metadata": {},
   "outputs": [],
   "source": [
    "# Set stopwords\n",
    "additional_stopwords = ['https','http']\n",
    "add_stop_words = ENGLISH_STOP_WORDS.union(additional_stopwords)"
   ]
  },
  {
   "cell_type": "code",
   "execution_count": 20,
   "metadata": {},
   "outputs": [],
   "source": [
    "vect = TfidfVectorizer(max_features=2500, ngram_range=(1,4), stop_words=add_stop_words)\n",
    "\n",
    "vect.fit(modelling_df['tweet_text_clean'])\n",
    "\n",
    "text_X = vect.transform(modelling_df['tweet_text_clean']).toarray()"
   ]
  },
  {
   "cell_type": "code",
   "execution_count": 21,
   "metadata": {},
   "outputs": [
    {
     "data": {
      "text/html": [
       "<div>\n",
       "<style scoped>\n",
       "    .dataframe tbody tr th:only-of-type {\n",
       "        vertical-align: middle;\n",
       "    }\n",
       "\n",
       "    .dataframe tbody tr th {\n",
       "        vertical-align: top;\n",
       "    }\n",
       "\n",
       "    .dataframe thead th {\n",
       "        text-align: right;\n",
       "    }\n",
       "</style>\n",
       "<table border=\"1\" class=\"dataframe\">\n",
       "  <thead>\n",
       "    <tr style=\"text-align: right;\">\n",
       "      <th></th>\n",
       "      <th>date</th>\n",
       "      <th>favorites</th>\n",
       "      <th>retweets</th>\n",
       "      <th>tweet_text_clean</th>\n",
       "      <th>marble_arch</th>\n",
       "      <th>waterloo</th>\n",
       "      <th>oxford_circus</th>\n",
       "      <th>regent_street</th>\n",
       "      <th>parliament_square</th>\n",
       "      <th>overall_sentiment</th>\n",
       "      <th>date_mins</th>\n",
       "      <th>date_hour</th>\n",
       "      <th>marble_arch_flag</th>\n",
       "      <th>waterloo_flag</th>\n",
       "      <th>oxford_circus_flag</th>\n",
       "      <th>regent_street_flag</th>\n",
       "      <th>parliament_square_flag</th>\n",
       "      <th>traffic</th>\n",
       "      <th>_merge</th>\n",
       "      <th>type_string</th>\n",
       "    </tr>\n",
       "  </thead>\n",
       "  <tbody>\n",
       "    <tr>\n",
       "      <th>6</th>\n",
       "      <td>2019-06-16 16:20:51</td>\n",
       "      <td>0</td>\n",
       "      <td>0</td>\n",
       "      <td>the united states needs something like the uk'...</td>\n",
       "      <td>0</td>\n",
       "      <td>0</td>\n",
       "      <td>0</td>\n",
       "      <td>0</td>\n",
       "      <td>0</td>\n",
       "      <td>0.5859</td>\n",
       "      <td>2019-06-16 16:20:00</td>\n",
       "      <td>2019-06-16 16:00:00</td>\n",
       "      <td>0</td>\n",
       "      <td>0</td>\n",
       "      <td>0</td>\n",
       "      <td>0</td>\n",
       "      <td>0</td>\n",
       "      <td>0.0</td>\n",
       "      <td>left_only</td>\n",
       "      <td>True</td>\n",
       "    </tr>\n",
       "    <tr>\n",
       "      <th>18</th>\n",
       "      <td>2019-06-16 16:07:17</td>\n",
       "      <td>0</td>\n",
       "      <td>0</td>\n",
       "      <td>grouplove - welcome to your life [official vid...</td>\n",
       "      <td>0</td>\n",
       "      <td>0</td>\n",
       "      <td>0</td>\n",
       "      <td>0</td>\n",
       "      <td>0</td>\n",
       "      <td>0.2422</td>\n",
       "      <td>2019-06-16 16:07:00</td>\n",
       "      <td>2019-06-16 16:00:00</td>\n",
       "      <td>0</td>\n",
       "      <td>0</td>\n",
       "      <td>0</td>\n",
       "      <td>0</td>\n",
       "      <td>0</td>\n",
       "      <td>0.0</td>\n",
       "      <td>left_only</td>\n",
       "      <td>True</td>\n",
       "    </tr>\n",
       "  </tbody>\n",
       "</table>\n",
       "</div>"
      ],
      "text/plain": [
       "                   date  favorites  retweets  \\\n",
       "6   2019-06-16 16:20:51          0         0   \n",
       "18  2019-06-16 16:07:17          0         0   \n",
       "\n",
       "                                     tweet_text_clean  marble_arch  waterloo  \\\n",
       "6   the united states needs something like the uk'...            0         0   \n",
       "18  grouplove - welcome to your life [official vid...            0         0   \n",
       "\n",
       "    oxford_circus  regent_street  parliament_square  overall_sentiment  \\\n",
       "6               0              0                  0             0.5859   \n",
       "18              0              0                  0             0.2422   \n",
       "\n",
       "              date_mins            date_hour  marble_arch_flag  waterloo_flag  \\\n",
       "6   2019-06-16 16:20:00  2019-06-16 16:00:00                 0              0   \n",
       "18  2019-06-16 16:07:00  2019-06-16 16:00:00                 0              0   \n",
       "\n",
       "    oxford_circus_flag  regent_street_flag  parliament_square_flag  traffic  \\\n",
       "6                    0                   0                       0      0.0   \n",
       "18                   0                   0                       0      0.0   \n",
       "\n",
       "       _merge  type_string  \n",
       "6   left_only         True  \n",
       "18  left_only         True  "
      ]
     },
     "execution_count": 21,
     "metadata": {},
     "output_type": "execute_result"
    }
   ],
   "source": [
    "modelling_df.head(2)"
   ]
  },
  {
   "cell_type": "code",
   "execution_count": 22,
   "metadata": {},
   "outputs": [
    {
     "data": {
      "text/plain": [
       "Index(['date', 'favorites', 'retweets', 'tweet_text_clean', 'marble_arch',\n",
       "       'waterloo', 'oxford_circus', 'regent_street', 'parliament_square',\n",
       "       'overall_sentiment', 'date_mins', 'date_hour', 'marble_arch_flag',\n",
       "       'waterloo_flag', 'oxford_circus_flag', 'regent_street_flag',\n",
       "       'parliament_square_flag', 'traffic', '_merge', 'type_string'],\n",
       "      dtype='object')"
      ]
     },
     "execution_count": 22,
     "metadata": {},
     "output_type": "execute_result"
    }
   ],
   "source": [
    "modelling_df.columns"
   ]
  },
  {
   "cell_type": "code",
   "execution_count": 23,
   "metadata": {},
   "outputs": [],
   "source": [
    "feature_cols_list = list(modelling_df[['favorites', 'retweets','marble_arch','waterloo',\n",
    "                             'oxford_circus','regent_street','parliament_square',\n",
    "                             'overall_sentiment']].columns)"
   ]
  },
  {
   "cell_type": "code",
   "execution_count": 24,
   "metadata": {},
   "outputs": [],
   "source": [
    "non_text_features = modelling_df[feature_cols_list].as_matrix()"
   ]
  },
  {
   "cell_type": "code",
   "execution_count": 25,
   "metadata": {},
   "outputs": [
    {
     "name": "stdout",
     "output_type": "stream",
     "text": [
      "Wall time: 43.6 ms\n"
     ]
    }
   ],
   "source": [
    "%%time\n",
    "x = np.hstack((text_X, non_text_features))"
   ]
  },
  {
   "cell_type": "markdown",
   "metadata": {},
   "source": [
    "### 4.2 Logistic Regression"
   ]
  },
  {
   "cell_type": "code",
   "execution_count": 26,
   "metadata": {
    "scrolled": true
   },
   "outputs": [
    {
     "name": "stdout",
     "output_type": "stream",
     "text": [
      "Fitting 3 folds for each of 8 candidates, totalling 24 fits\n"
     ]
    },
    {
     "name": "stderr",
     "output_type": "stream",
     "text": [
      "[Parallel(n_jobs=-1)]: Done  24 out of  24 | elapsed:   29.6s finished\n"
     ]
    },
    {
     "name": "stdout",
     "output_type": "stream",
     "text": [
      "Wall time: 30.2 s\n"
     ]
    }
   ],
   "source": [
    "%%time\n",
    "# Run gridsearch\n",
    "lr = LogisticRegression()\n",
    "y = modelling_df['traffic']\n",
    "\n",
    "params = {'C' : [0.01, 0.1, 0.9, 1.1],\n",
    "         'penalty' : ['l1', 'l2']}\n",
    "\n",
    "gs_lr = GridSearchCV(lr, param_grid=params, verbose=1, n_jobs=-1)\n",
    "gs_lr.fit(x, y)"
   ]
  },
  {
   "cell_type": "code",
   "execution_count": 27,
   "metadata": {},
   "outputs": [
    {
     "data": {
      "text/plain": [
       "0.5214481289930027"
      ]
     },
     "execution_count": 27,
     "metadata": {},
     "output_type": "execute_result"
    }
   ],
   "source": [
    "gs_lr.best_score_"
   ]
  },
  {
   "cell_type": "code",
   "execution_count": 28,
   "metadata": {},
   "outputs": [
    {
     "data": {
      "text/plain": [
       "{'C': 1.1, 'penalty': 'l1'}"
      ]
     },
     "execution_count": 28,
     "metadata": {},
     "output_type": "execute_result"
    }
   ],
   "source": [
    "gs_lr.best_params_"
   ]
  },
  {
   "cell_type": "markdown",
   "metadata": {},
   "source": [
    "##### Seemed to work better without penalty function"
   ]
  },
  {
   "cell_type": "code",
   "execution_count": 29,
   "metadata": {},
   "outputs": [
    {
     "name": "stdout",
     "output_type": "stream",
     "text": [
      "(2300, 2508) (987, 2508)\n",
      "(2300,) (987,)\n",
      "0.5724417426545086\n",
      "Wall time: 188 ms\n"
     ]
    }
   ],
   "source": [
    "%%time\n",
    "# Model\n",
    "lr = LogisticRegression(C = 8)\n",
    "\n",
    "y = modelling_df['traffic']\n",
    "\n",
    "x_train, x_test, y_train, y_test = train_test_split(x, y, test_size=0.3, random_state=42)\n",
    "\n",
    "print(x_train.shape, x_test.shape)\n",
    "print(y_train.shape, y_test.shape)\n",
    "\n",
    "lr.fit(x_train, y_train)\n",
    "\n",
    "pred = lr.predict(x_test)\n",
    "\n",
    "score = lr.score(x_test, y_test)\n",
    "print(score)"
   ]
  },
  {
   "cell_type": "code",
   "execution_count": 30,
   "metadata": {
    "scrolled": false
   },
   "outputs": [
    {
     "data": {
      "text/html": [
       "<div>\n",
       "<style scoped>\n",
       "    .dataframe tbody tr th:only-of-type {\n",
       "        vertical-align: middle;\n",
       "    }\n",
       "\n",
       "    .dataframe tbody tr th {\n",
       "        vertical-align: top;\n",
       "    }\n",
       "\n",
       "    .dataframe thead th {\n",
       "        text-align: right;\n",
       "    }\n",
       "</style>\n",
       "<table border=\"1\" class=\"dataframe\">\n",
       "  <thead>\n",
       "    <tr style=\"text-align: right;\">\n",
       "      <th></th>\n",
       "      <th>Coefficients</th>\n",
       "      <th>Features</th>\n",
       "    </tr>\n",
       "  </thead>\n",
       "  <tbody>\n",
       "    <tr>\n",
       "      <th>1292</th>\n",
       "      <td>5.242190</td>\n",
       "      <td>ist</td>\n",
       "    </tr>\n",
       "    <tr>\n",
       "      <th>1361</th>\n",
       "      <td>4.261164</td>\n",
       "      <td>latest</td>\n",
       "    </tr>\n",
       "    <tr>\n",
       "      <th>1670</th>\n",
       "      <td>3.838652</td>\n",
       "      <td>point</td>\n",
       "    </tr>\n",
       "    <tr>\n",
       "      <th>1963</th>\n",
       "      <td>3.721188</td>\n",
       "      <td>runway</td>\n",
       "    </tr>\n",
       "    <tr>\n",
       "      <th>1694</th>\n",
       "      <td>3.379213</td>\n",
       "      <td>pour</td>\n",
       "    </tr>\n",
       "    <tr>\n",
       "      <th>1471</th>\n",
       "      <td>3.324295</td>\n",
       "      <td>met</td>\n",
       "    </tr>\n",
       "    <tr>\n",
       "      <th>107</th>\n",
       "      <td>3.160162</td>\n",
       "      <td>40</td>\n",
       "    </tr>\n",
       "    <tr>\n",
       "      <th>1288</th>\n",
       "      <td>3.144652</td>\n",
       "      <td>involved</td>\n",
       "    </tr>\n",
       "    <tr>\n",
       "      <th>1398</th>\n",
       "      <td>3.137073</td>\n",
       "      <td>local</td>\n",
       "    </tr>\n",
       "    <tr>\n",
       "      <th>2083</th>\n",
       "      <td>3.120922</td>\n",
       "      <td>stance</td>\n",
       "    </tr>\n",
       "    <tr>\n",
       "      <th>1394</th>\n",
       "      <td>3.113381</td>\n",
       "      <td>listen</td>\n",
       "    </tr>\n",
       "    <tr>\n",
       "      <th>2405</th>\n",
       "      <td>3.088624</td>\n",
       "      <td>words</td>\n",
       "    </tr>\n",
       "    <tr>\n",
       "      <th>2476</th>\n",
       "      <td>3.081931</td>\n",
       "      <td>years ago</td>\n",
       "    </tr>\n",
       "    <tr>\n",
       "      <th>149</th>\n",
       "      <td>3.073994</td>\n",
       "      <td>ahead</td>\n",
       "    </tr>\n",
       "    <tr>\n",
       "      <th>1026</th>\n",
       "      <td>3.006522</td>\n",
       "      <td>flying</td>\n",
       "    </tr>\n",
       "    <tr>\n",
       "      <th>2251</th>\n",
       "      <td>2.997786</td>\n",
       "      <td>trump</td>\n",
       "    </tr>\n",
       "    <tr>\n",
       "      <th>2461</th>\n",
       "      <td>2.897577</td>\n",
       "      <td>xrbristol</td>\n",
       "    </tr>\n",
       "    <tr>\n",
       "      <th>2246</th>\n",
       "      <td>2.893332</td>\n",
       "      <td>transport</td>\n",
       "    </tr>\n",
       "    <tr>\n",
       "      <th>598</th>\n",
       "      <td>2.884745</td>\n",
       "      <td>comments</td>\n",
       "    </tr>\n",
       "    <tr>\n",
       "      <th>1585</th>\n",
       "      <td>2.879967</td>\n",
       "      <td>old</td>\n",
       "    </tr>\n",
       "  </tbody>\n",
       "</table>\n",
       "</div>"
      ],
      "text/plain": [
       "      Coefficients   Features\n",
       "1292      5.242190        ist\n",
       "1361      4.261164     latest\n",
       "1670      3.838652      point\n",
       "1963      3.721188     runway\n",
       "1694      3.379213       pour\n",
       "1471      3.324295        met\n",
       "107       3.160162         40\n",
       "1288      3.144652   involved\n",
       "1398      3.137073      local\n",
       "2083      3.120922     stance\n",
       "1394      3.113381     listen\n",
       "2405      3.088624      words\n",
       "2476      3.081931  years ago\n",
       "149       3.073994      ahead\n",
       "1026      3.006522     flying\n",
       "2251      2.997786      trump\n",
       "2461      2.897577  xrbristol\n",
       "2246      2.893332  transport\n",
       "598       2.884745   comments\n",
       "1585      2.879967        old"
      ]
     },
     "execution_count": 30,
     "metadata": {},
     "output_type": "execute_result"
    }
   ],
   "source": [
    "# Look into model coefficients\n",
    "coeffs_df = pd.DataFrame({'Coefficients' : lr.coef_[0], 'Features' : vect.get_feature_names() + feature_cols_list}).sort_values('Coefficients', ascending = False)\n",
    "coeffs_df.head(20)"
   ]
  },
  {
   "cell_type": "code",
   "execution_count": 31,
   "metadata": {
    "scrolled": true
   },
   "outputs": [
    {
     "data": {
      "text/html": [
       "<div>\n",
       "<style scoped>\n",
       "    .dataframe tbody tr th:only-of-type {\n",
       "        vertical-align: middle;\n",
       "    }\n",
       "\n",
       "    .dataframe tbody tr th {\n",
       "        vertical-align: top;\n",
       "    }\n",
       "\n",
       "    .dataframe thead th {\n",
       "        text-align: right;\n",
       "    }\n",
       "</style>\n",
       "<table border=\"1\" class=\"dataframe\">\n",
       "  <thead>\n",
       "    <tr style=\"text-align: right;\">\n",
       "      <th></th>\n",
       "      <th>Coefficients</th>\n",
       "      <th>Features</th>\n",
       "    </tr>\n",
       "  </thead>\n",
       "  <tbody>\n",
       "    <tr>\n",
       "      <th>1328</th>\n",
       "      <td>-2.795624</td>\n",
       "      <td>justice</td>\n",
       "    </tr>\n",
       "    <tr>\n",
       "      <th>360</th>\n",
       "      <td>-2.805275</td>\n",
       "      <td>chain</td>\n",
       "    </tr>\n",
       "    <tr>\n",
       "      <th>2377</th>\n",
       "      <td>-2.818147</td>\n",
       "      <td>weeks</td>\n",
       "    </tr>\n",
       "    <tr>\n",
       "      <th>2499</th>\n",
       "      <td>-2.822404</td>\n",
       "      <td>zur</td>\n",
       "    </tr>\n",
       "    <tr>\n",
       "      <th>1073</th>\n",
       "      <td>-2.835090</td>\n",
       "      <td>future climateemergency</td>\n",
       "    </tr>\n",
       "    <tr>\n",
       "      <th>1587</th>\n",
       "      <td>-2.865111</td>\n",
       "      <td>open</td>\n",
       "    </tr>\n",
       "    <tr>\n",
       "      <th>268</th>\n",
       "      <td>-2.879019</td>\n",
       "      <td>biodiversity</td>\n",
       "    </tr>\n",
       "    <tr>\n",
       "      <th>933</th>\n",
       "      <td>-2.891686</td>\n",
       "      <td>extinctionrebel</td>\n",
       "    </tr>\n",
       "    <tr>\n",
       "      <th>1890</th>\n",
       "      <td>-2.895954</td>\n",
       "      <td>record</td>\n",
       "    </tr>\n",
       "    <tr>\n",
       "      <th>1068</th>\n",
       "      <td>-2.955907</td>\n",
       "      <td>fucking</td>\n",
       "    </tr>\n",
       "    <tr>\n",
       "      <th>1389</th>\n",
       "      <td>-2.959630</td>\n",
       "      <td>line</td>\n",
       "    </tr>\n",
       "    <tr>\n",
       "      <th>227</th>\n",
       "      <td>-2.983769</td>\n",
       "      <td>bad</td>\n",
       "    </tr>\n",
       "    <tr>\n",
       "      <th>2107</th>\n",
       "      <td>-3.050270</td>\n",
       "      <td>stop</td>\n",
       "    </tr>\n",
       "    <tr>\n",
       "      <th>2168</th>\n",
       "      <td>-3.116430</td>\n",
       "      <td>talks</td>\n",
       "    </tr>\n",
       "    <tr>\n",
       "      <th>351</th>\n",
       "      <td>-3.124512</td>\n",
       "      <td>case</td>\n",
       "    </tr>\n",
       "    <tr>\n",
       "      <th>1698</th>\n",
       "      <td>-3.219275</td>\n",
       "      <td>probably</td>\n",
       "    </tr>\n",
       "    <tr>\n",
       "      <th>2289</th>\n",
       "      <td>-3.274732</td>\n",
       "      <td>understand</td>\n",
       "    </tr>\n",
       "    <tr>\n",
       "      <th>225</th>\n",
       "      <td>-3.292021</td>\n",
       "      <td>away</td>\n",
       "    </tr>\n",
       "    <tr>\n",
       "      <th>769</th>\n",
       "      <td>-3.453511</td>\n",
       "      <td>durch</td>\n",
       "    </tr>\n",
       "    <tr>\n",
       "      <th>1763</th>\n",
       "      <td>-4.704050</td>\n",
       "      <td>radiohead</td>\n",
       "    </tr>\n",
       "  </tbody>\n",
       "</table>\n",
       "</div>"
      ],
      "text/plain": [
       "      Coefficients                 Features\n",
       "1328     -2.795624                  justice\n",
       "360      -2.805275                    chain\n",
       "2377     -2.818147                    weeks\n",
       "2499     -2.822404                      zur\n",
       "1073     -2.835090  future climateemergency\n",
       "1587     -2.865111                     open\n",
       "268      -2.879019             biodiversity\n",
       "933      -2.891686          extinctionrebel\n",
       "1890     -2.895954                   record\n",
       "1068     -2.955907                  fucking\n",
       "1389     -2.959630                     line\n",
       "227      -2.983769                      bad\n",
       "2107     -3.050270                     stop\n",
       "2168     -3.116430                    talks\n",
       "351      -3.124512                     case\n",
       "1698     -3.219275                 probably\n",
       "2289     -3.274732               understand\n",
       "225      -3.292021                     away\n",
       "769      -3.453511                    durch\n",
       "1763     -4.704050                radiohead"
      ]
     },
     "execution_count": 31,
     "metadata": {},
     "output_type": "execute_result"
    }
   ],
   "source": [
    "# Quick look at the tail\n",
    "coeffs_df.tail(20)"
   ]
  },
  {
   "cell_type": "markdown",
   "metadata": {},
   "source": [
    "#### 4.21 Evaluate model"
   ]
  },
  {
   "cell_type": "code",
   "execution_count": 32,
   "metadata": {},
   "outputs": [],
   "source": [
    "# create a new df for test scores\n",
    "model_output = modelling_df.loc[y_test.index]\n",
    "\n",
    "model_output['prediction'] = pred"
   ]
  },
  {
   "cell_type": "code",
   "execution_count": 33,
   "metadata": {},
   "outputs": [
    {
     "data": {
      "image/png": "[encoded data removed]",
      "text/plain": [
       "<matplotlib.figure.Figure at 0x237b4e70860>"
      ]
     },
     "metadata": {},
     "output_type": "display_data"
    }
   ],
   "source": [
    "# Take a look at confusion matrix\n",
    "conmat = metrics.confusion_matrix(model_output['traffic'].values, model_output['prediction'].values)\n",
    "classes = np.array([ 0.,  1.])\n",
    "plot_confusion_matrix(conmat, classes)"
   ]
  },
  {
   "cell_type": "code",
   "execution_count": 34,
   "metadata": {},
   "outputs": [
    {
     "name": "stdout",
     "output_type": "stream",
     "text": [
      "             precision    recall  f1-score   support\n",
      "\n",
      "        0.0       0.57      0.53      0.55       486\n",
      "        1.0       0.57      0.61      0.59       501\n",
      "\n",
      "avg / total       0.57      0.57      0.57       987\n",
      "\n"
     ]
    }
   ],
   "source": [
    "print(classification_report(model_output['traffic'], model_output['prediction']))"
   ]
  },
  {
   "cell_type": "code",
   "execution_count": null,
   "metadata": {},
   "outputs": [],
   "source": []
  }
 ],
 "metadata": {
  "kernelspec": {
   "display_name": "Python 3",
   "language": "python",
   "name": "python3"
  },
  "language_info": {
   "codemirror_mode": {
    "name": "ipython",
    "version": 3
   },
   "file_extension": ".py",
   "mimetype": "text/x-python",
   "name": "python",
   "nbconvert_exporter": "python",
   "pygments_lexer": "ipython3",
   "version": "3.7.4"
  }
 },
 "nbformat": 4,
 "nbformat_minor": 2
}
